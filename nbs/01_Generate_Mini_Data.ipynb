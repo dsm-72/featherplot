{
 "cells": [
  {
   "attachments": {},
   "cell_type": "markdown",
   "metadata": {},
   "source": [
    "# Generate Simple Dataset\n",
    "\n",
    "for highlighting how to use [`deepscatter`][deepscatter] (from [NOMIC.ai][NOMIC.ai]) with [`svelte`][svelte] and [`sveltekit`][sveltekit].\n",
    "\n",
    "Credit goes to Benjamin Schmidt ([@bmschmidt][Benjamin Schmidt]) of [NOMIC.ai][NOMIC.ai] for his assistance.\n",
    "\n",
    "\n",
    "**DISCLAIMER** from [deepscatter][deepscatter]'s GitHub page under [API]:\n",
    "\n",
    "> This is still subject to change and is not fully documented. The encoding portion of the API mimics Vega-Lite with some minor distinctions to avoid deeply-nested queries and to add animation and jitter parameters.\n",
    "\n",
    "\n",
    "\n",
    "[api section]: https://github.com/nomic-ai/deepscatter#api\n",
    "[svelte]: https://svelte.dev\n",
    "[sveltekit]: https://kit.svelte.dev\n",
    "[NOMIC.ai]: https://home.nomic.ai\n",
    "[deepscatter]: https://github.com/nomic-ai/deepscatter\n",
    "[Benjamin Schmidt]: https://gist.github.com/bmschmidt\n",
    "[add_sidecars.py]: https://gist.github.com/bmschmidt/03947d36664ec07c63d7b72a5c8adbf8"
   ]
  },
  {
   "attachments": {},
   "cell_type": "markdown",
   "metadata": {},
   "source": [
    "## Slack Message"
   ]
  },
  {
   "attachments": {},
   "cell_type": "markdown",
   "metadata": {},
   "source": [
    "OK so if this is slow we can make it a gazillion times faster by doing this the right way, not joining on string keys, which is to use this [program][add_sidecars.py].\n",
    "\n",
    "The workflow is:\n",
    "\n",
    "1. Run quadfeather to create tiles the way you currently are into a folder at ~/data/whatever/my_tiles\n",
    "\n",
    "2. Create a single file that contains all the data you want to add, but none of the data that’s already there except for your unique id field. (barcode). That file needs to be somewhat strictly formatted, right now. (This is an unreleased feature). barcode must be the same name and data type as in your primary file.\n",
    "\n",
    "3. The file must be a feather file, not parquet. (from pyarrow import feather; feather.write_feather(parquet.read_table(\"fin.parquet\"), \"fout.feather\") )\n",
    "\n",
    "4. All columns that you want to show up in the data should ideally be float32() type, although doubles might not be the end of the world.\n",
    "\n",
    "Save the program above to [add_sidecars.py][add_sidecars.py], and run \n",
    "\n",
    "```shell\n",
    "python3 add_sidecars.py --tileset ~/data/whatever/my_tiles --sidecar fout.feather --key barcode\n",
    "```\n",
    "\n",
    "[add_sidecars.py]: https://gist.github.com/bmschmidt/03947d36664ec07c63d7b72a5c8adbf8"
   ]
  },
  {
   "attachments": {},
   "cell_type": "markdown",
   "metadata": {},
   "source": [
    "## Imports"
   ]
  },
  {
   "cell_type": "code",
   "execution_count": null,
   "metadata": {},
   "outputs": [],
   "source": [
    "# standard lib\n",
    "import os, pwd, sys, json, yaml, atexit, tempfile, inspect\n",
    "\n",
    "# for data-science\n",
    "import pandas as pd, numpy as np, quadfeather\n",
    "from pyarrow import feather\n",
    "\n",
    "# for plotting\n",
    "import matplotlib as mpl, matplotlib.pyplot as plt, seaborn as sns"
   ]
  },
  {
   "attachments": {},
   "cell_type": "markdown",
   "metadata": {},
   "source": [
    "## Setup"
   ]
  },
  {
   "cell_type": "code",
   "execution_count": null,
   "metadata": {},
   "outputs": [],
   "source": [
    "SEED = 3\n",
    "np.random.seed(SEED)\n",
    "\n",
    "# NOTE: this is much smaller than what deepscatter can actually handle\n",
    "N_POINTS =1000\n",
    "\n",
    "# NOTE: this is much smaller than the default tile size of 50,000\n",
    "TILE_SIZE = 100\n",
    "\n",
    "# full path to this notebook\n",
    "FILE = os.path.abspath('')\n",
    "\n",
    "# the sveltekit project you might be working on / want to deploy\n",
    "SVELTEKIT_DIR = os.path.join(FILE, '..')\n",
    "\n",
    "# the static assets directory of the sveltekit project where files are hosted\n",
    "STATIC_ASSETS_DIR = os.path.join(SVELTEKIT_DIR, 'static')\n",
    "\n",
    "# we are assuming that you might have multiple datasets you want to host / switch between\n",
    "DATASETS_DIR = os.path.join(STATIC_ASSETS_DIR, 'datasets')\n",
    "\n",
    "# this is where we are going to store our dataset\n",
    "DATASET_NAME = 'mini'\n",
    "DEMO_DATASET_DIR = os.path.join(DATASETS_DIR, DATASET_NAME)\n",
    "\n",
    "# NOTE: this is the unique ID that will be used map additional columns to the dataset\n",
    "LABEL_NAME = 'label'"
   ]
  },
  {
   "cell_type": "code",
   "execution_count": null,
   "metadata": {},
   "outputs": [],
   "source": [
    "# you can switch TARGET_DIR with whatever dataset you want to work with\n",
    "TARGET_DIR = DEMO_DATASET_DIR\n",
    "\n",
    "if not os.path.isdir(TARGET_DIR):\n",
    "    os.makedirs(TARGET_DIR)    \n",
    "\n",
    "# NOTE: you can use a temp direcotry, but this is so you can view the files and confirm they are deleted\n",
    "TMP_DIR = os.path.expanduser('~/Downloads')"
   ]
  },
  {
   "attachments": {},
   "cell_type": "markdown",
   "metadata": {},
   "source": [
    "## Utils"
   ]
  },
  {
   "cell_type": "code",
   "execution_count": null,
   "metadata": {},
   "outputs": [],
   "source": [
    "usr = pwd.getpwuid(os.getuid())[0]\n",
    "\n",
    "def collapse_user(path: str) -> str:\n",
    "    prefix, rest = path.split(usr)    \n",
    "    return '~' + rest"
   ]
  },
  {
   "cell_type": "code",
   "execution_count": null,
   "metadata": {},
   "outputs": [],
   "source": [
    "def make_temp_file(**kwargs) -> tempfile.NamedTemporaryFile:\n",
    "    temp = tempfile.NamedTemporaryFile(**kwargs)\n",
    "    @atexit.register\n",
    "    def delete_temp() -> None:\n",
    "        temp.close()\n",
    "    return temp"
   ]
  },
  {
   "cell_type": "code",
   "execution_count": null,
   "metadata": {},
   "outputs": [],
   "source": [
    "# where we will store points\n",
    "csv_points = make_temp_file(suffix='.csv', dir=os.path.expanduser(TMP_DIR))\n",
    "\n",
    "# where we will store additional information\n",
    "csv_sidecar = make_temp_file(suffix='.csv', dir=os.path.expanduser(TMP_DIR))\n",
    "\n",
    "# where we will store additional information as feather file\n",
    "feather_sidecar = make_temp_file(suffix='.feather', dir=os.path.expanduser(TMP_DIR))\n",
    "\n",
    "# where we store raw labels\n",
    "csv_labels = os.path.join(TARGET_DIR, 'labels.csv')"
   ]
  },
  {
   "attachments": {},
   "cell_type": "markdown",
   "metadata": {},
   "source": [
    "## Fake Data"
   ]
  },
  {
   "cell_type": "code",
   "execution_count": null,
   "metadata": {},
   "outputs": [],
   "source": [
    "labels = pd.Series(np.arange(N_POINTS), name=LABEL_NAME).map(lambda x: f'Label {x}')"
   ]
  },
  {
   "cell_type": "code",
   "execution_count": null,
   "metadata": {},
   "outputs": [
    {
     "data": {
      "text/html": [
       "<div>\n",
       "<style scoped>\n",
       "    .dataframe tbody tr th:only-of-type {\n",
       "        vertical-align: middle;\n",
       "    }\n",
       "\n",
       "    .dataframe tbody tr th {\n",
       "        vertical-align: top;\n",
       "    }\n",
       "\n",
       "    .dataframe thead th {\n",
       "        text-align: right;\n",
       "    }\n",
       "</style>\n",
       "<table border=\"1\" class=\"dataframe\">\n",
       "  <thead>\n",
       "    <tr style=\"text-align: right;\">\n",
       "      <th></th>\n",
       "      <th>x</th>\n",
       "      <th>y</th>\n",
       "      <th>z</th>\n",
       "    </tr>\n",
       "    <tr>\n",
       "      <th>label</th>\n",
       "      <th></th>\n",
       "      <th></th>\n",
       "      <th></th>\n",
       "    </tr>\n",
       "  </thead>\n",
       "  <tbody>\n",
       "    <tr>\n",
       "      <th>Label 0</th>\n",
       "      <td>1.788628</td>\n",
       "      <td>0.436510</td>\n",
       "      <td>0.096497</td>\n",
       "    </tr>\n",
       "    <tr>\n",
       "      <th>Label 1</th>\n",
       "      <td>-1.863493</td>\n",
       "      <td>-0.277388</td>\n",
       "      <td>-0.354759</td>\n",
       "    </tr>\n",
       "    <tr>\n",
       "      <th>Label 2</th>\n",
       "      <td>-0.082741</td>\n",
       "      <td>-0.627001</td>\n",
       "      <td>-0.043818</td>\n",
       "    </tr>\n",
       "    <tr>\n",
       "      <th>Label 3</th>\n",
       "      <td>-0.477218</td>\n",
       "      <td>-1.313865</td>\n",
       "      <td>0.884622</td>\n",
       "    </tr>\n",
       "    <tr>\n",
       "      <th>Label 4</th>\n",
       "      <td>0.881318</td>\n",
       "      <td>1.709573</td>\n",
       "      <td>0.050034</td>\n",
       "    </tr>\n",
       "  </tbody>\n",
       "</table>\n",
       "</div>"
      ],
      "text/plain": [
       "                x         y         z\n",
       "label                                \n",
       "Label 0  1.788628  0.436510  0.096497\n",
       "Label 1 -1.863493 -0.277388 -0.354759\n",
       "Label 2 -0.082741 -0.627001 -0.043818\n",
       "Label 3 -0.477218 -1.313865  0.884622\n",
       "Label 4  0.881318  1.709573  0.050034"
      ]
     },
     "execution_count": null,
     "metadata": {},
     "output_type": "execute_result"
    }
   ],
   "source": [
    "df_points = pd.DataFrame(\n",
    "    np.random.randn(N_POINTS, 3),\n",
    "    index=labels, columns=['x', 'y', 'z']\n",
    ")\n",
    "df_points.head()"
   ]
  },
  {
   "cell_type": "code",
   "execution_count": null,
   "metadata": {},
   "outputs": [
    {
     "data": {
      "text/html": [
       "<div>\n",
       "<style scoped>\n",
       "    .dataframe tbody tr th:only-of-type {\n",
       "        vertical-align: middle;\n",
       "    }\n",
       "\n",
       "    .dataframe tbody tr th {\n",
       "        vertical-align: top;\n",
       "    }\n",
       "\n",
       "    .dataframe thead th {\n",
       "        text-align: right;\n",
       "    }\n",
       "</style>\n",
       "<table border=\"1\" class=\"dataframe\">\n",
       "  <thead>\n",
       "    <tr style=\"text-align: right;\">\n",
       "      <th></th>\n",
       "      <th>category</th>\n",
       "      <th>boolean</th>\n",
       "      <th>continuous</th>\n",
       "      <th>feature</th>\n",
       "      <th>target</th>\n",
       "    </tr>\n",
       "    <tr>\n",
       "      <th>label</th>\n",
       "      <th></th>\n",
       "      <th></th>\n",
       "      <th></th>\n",
       "      <th></th>\n",
       "      <th></th>\n",
       "    </tr>\n",
       "  </thead>\n",
       "  <tbody>\n",
       "    <tr>\n",
       "      <th>Label 0</th>\n",
       "      <td>3</td>\n",
       "      <td>False</td>\n",
       "      <td>-1.599727</td>\n",
       "      <td>-1.085874</td>\n",
       "      <td>-1.157137</td>\n",
       "    </tr>\n",
       "    <tr>\n",
       "      <th>Label 1</th>\n",
       "      <td>5</td>\n",
       "      <td>False</td>\n",
       "      <td>0.633804</td>\n",
       "      <td>-0.754475</td>\n",
       "      <td>0.043049</td>\n",
       "    </tr>\n",
       "    <tr>\n",
       "      <th>Label 2</th>\n",
       "      <td>3</td>\n",
       "      <td>False</td>\n",
       "      <td>-0.059582</td>\n",
       "      <td>0.906537</td>\n",
       "      <td>0.295364</td>\n",
       "    </tr>\n",
       "    <tr>\n",
       "      <th>Label 3</th>\n",
       "      <td>0</td>\n",
       "      <td>False</td>\n",
       "      <td>-0.982250</td>\n",
       "      <td>0.618337</td>\n",
       "      <td>-0.309664</td>\n",
       "    </tr>\n",
       "    <tr>\n",
       "      <th>Label 4</th>\n",
       "      <td>2</td>\n",
       "      <td>True</td>\n",
       "      <td>0.341083</td>\n",
       "      <td>0.601993</td>\n",
       "      <td>0.159713</td>\n",
       "    </tr>\n",
       "  </tbody>\n",
       "</table>\n",
       "</div>"
      ],
      "text/plain": [
       "        category  boolean  continuous   feature    target\n",
       "label                                                    \n",
       "Label 0        3    False   -1.599727 -1.085874 -1.157137\n",
       "Label 1        5    False    0.633804 -0.754475  0.043049\n",
       "Label 2        3    False   -0.059582  0.906537  0.295364\n",
       "Label 3        0    False   -0.982250  0.618337 -0.309664\n",
       "Label 4        2     True    0.341083  0.601993  0.159713"
      ]
     },
     "execution_count": null,
     "metadata": {},
     "output_type": "execute_result"
    }
   ],
   "source": [
    "df_sidecar = pd.DataFrame(\n",
    "    np.random.randn(N_POINTS, 5), index=labels, \n",
    "    columns=['category', 'boolean', 'continuous', 'feature', 'target'],\n",
    "    # dtype=['category', 'bool', 'float64', 'float64', 'float64']\n",
    ")\n",
    "df_sidecar.category = df_sidecar.category.map(lambda x: np.abs(int(x * 3)))\n",
    "df_sidecar.boolean = df_sidecar.boolean.map(lambda x: x >= 0)\n",
    "df_sidecar = df_sidecar.astype({'category': 'category', 'boolean': 'bool'})\n",
    "df_sidecar.head()"
   ]
  },
  {
   "cell_type": "code",
   "execution_count": null,
   "metadata": {},
   "outputs": [],
   "source": [
    "labels.to_csv(csv_labels, index=False)\n",
    "df_points.to_csv(csv_points)\n",
    "df_sidecar.to_csv(csv_sidecar)"
   ]
  },
  {
   "attachments": {},
   "cell_type": "markdown",
   "metadata": {},
   "source": [
    "## Workflow"
   ]
  },
  {
   "attachments": {},
   "cell_type": "markdown",
   "metadata": {},
   "source": [
    "### 1) create tiles"
   ]
  },
  {
   "cell_type": "code",
   "execution_count": null,
   "metadata": {},
   "outputs": [],
   "source": [
    "!quadfeather --files {csv_points.name} --tile_size {TILE_SIZE} --destination {os.path.join(TARGET_DIR, 'tiles')}"
   ]
  },
  {
   "cell_type": "code",
   "execution_count": null,
   "metadata": {},
   "outputs": [],
   "source": [
    "!rm -rf {os.path.join(TMP_DIR, '_deepscatter_tmp')}"
   ]
  },
  {
   "attachments": {},
   "cell_type": "markdown",
   "metadata": {},
   "source": [
    "### 2) make single file"
   ]
  },
  {
   "attachments": {},
   "cell_type": "markdown",
   "metadata": {},
   "source": [
    "Create a single file that contains all the data you want to add, but none of the data that’s already there except for your unique id field (`label` in this case). \n",
    "\n",
    "NOTE: `label` must be the same name and data type as in your primary file."
   ]
  },
  {
   "attachments": {},
   "cell_type": "markdown",
   "metadata": {},
   "source": [
    "**UPDATE:**\n",
    "\n",
    "> as we combine data we are going to extract important meta data"
   ]
  },
  {
   "cell_type": "code",
   "execution_count": null,
   "metadata": {},
   "outputs": [],
   "source": [
    "def extract_column_metadata(\n",
    "    df:pd.DataFrame,\n",
    "    is_sidecar:bool=False,\n",
    "    do_rename:bool=True, copy:bool=False,\n",
    ") -> (pd.DataFrame, dict):\n",
    "    df_cur = df.copy() if copy else df\n",
    "\n",
    "    meta = {}\n",
    "\n",
    "    # NOTE: strictly required\n",
    "    _required_columns = 'x y'.split()\n",
    "    # NOTE: assumed to be present\n",
    "    _assumed_columns = _required_columns + ['z']\n",
    "    \n",
    "    # NOTE: first we check if the required columns are present\n",
    "    _missing_cols = list(set(_required_columns) - set(df_cur.columns))\n",
    "    _to_rename = dict()\n",
    "\n",
    "    # NOTE: if they are not present, we then rename the first column\n",
    "    # to the next missing required column. This may not be the desired effect.\n",
    "    if do_rename and not is_sidecar:\n",
    "        for i, cname in enumerate(df_cur.columns):\n",
    "            if cname not in _assumed_columns and len(_missing_cols) > 0:\n",
    "                new_col_name = _missing_cols.pop(0)\n",
    "                _to_rename[cname] = dict(name=new_col_name, text=cname, index=i)\n",
    "\n",
    "\n",
    "    for i, cname in enumerate(df_cur.columns):        \n",
    "        col = df_cur[cname]\n",
    "        dtype = col.dtype.name\n",
    "        if dtype == 'category':\n",
    "            col = col.cat.as_ordered()\n",
    "            _min, _max = int(col.cat.codes.min()), int(col.cat.codes.max())\n",
    "        elif dtype == 'bool':\n",
    "            _min, _max = 0, 1\n",
    "        else:\n",
    "            _min, _max = float(col.min()), float(col.max())\n",
    "        \n",
    "        text = str(cname)\n",
    "        if do_rename and not is_sidecar:\n",
    "            if cname in _to_rename:\n",
    "                text = _to_rename[cname]['text']\n",
    "                new_col_name = _to_rename[cname]['name']\n",
    "                df_cur = df_cur.rename(columns={cname: new_col_name})\n",
    "                cname = new_col_name\n",
    "\n",
    "        cmeta = dict(\n",
    "            name=str(cname), text=str(cname),type=str(dtype),\n",
    "            min=_min, max=_max, domain=[_min, _max],\n",
    "            is_sidecar=is_sidecar,\n",
    "        )\n",
    "\n",
    "        meta[cname] = cmeta\n",
    "    return df_cur, meta"
   ]
  },
  {
   "cell_type": "code",
   "execution_count": null,
   "metadata": {},
   "outputs": [],
   "source": [
    "df_p, meta_p = extract_column_metadata(df_points,  do_rename=True, is_sidecar=False)\n",
    "df_s, meta_s = extract_column_metadata(df_sidecar, do_rename=False, is_sidecar=True)\n",
    "\n",
    "column_meta = {**meta_p, **meta_s}"
   ]
  },
  {
   "cell_type": "code",
   "execution_count": null,
   "metadata": {},
   "outputs": [],
   "source": [
    "df_all = pd.concat([df_p, df_s], axis=1)"
   ]
  },
  {
   "cell_type": "code",
   "execution_count": null,
   "metadata": {},
   "outputs": [
    {
     "data": {
      "text/html": [
       "<div>\n",
       "<style scoped>\n",
       "    .dataframe tbody tr th:only-of-type {\n",
       "        vertical-align: middle;\n",
       "    }\n",
       "\n",
       "    .dataframe tbody tr th {\n",
       "        vertical-align: top;\n",
       "    }\n",
       "\n",
       "    .dataframe thead th {\n",
       "        text-align: right;\n",
       "    }\n",
       "</style>\n",
       "<table border=\"1\" class=\"dataframe\">\n",
       "  <thead>\n",
       "    <tr style=\"text-align: right;\">\n",
       "      <th></th>\n",
       "      <th>x</th>\n",
       "      <th>y</th>\n",
       "      <th>z</th>\n",
       "      <th>category</th>\n",
       "      <th>boolean</th>\n",
       "      <th>continuous</th>\n",
       "      <th>feature</th>\n",
       "      <th>target</th>\n",
       "    </tr>\n",
       "    <tr>\n",
       "      <th>label</th>\n",
       "      <th></th>\n",
       "      <th></th>\n",
       "      <th></th>\n",
       "      <th></th>\n",
       "      <th></th>\n",
       "      <th></th>\n",
       "      <th></th>\n",
       "      <th></th>\n",
       "    </tr>\n",
       "  </thead>\n",
       "  <tbody>\n",
       "    <tr>\n",
       "      <th>Label 0</th>\n",
       "      <td>1.788628</td>\n",
       "      <td>0.436510</td>\n",
       "      <td>0.096497</td>\n",
       "      <td>3</td>\n",
       "      <td>False</td>\n",
       "      <td>-1.599727</td>\n",
       "      <td>-1.085874</td>\n",
       "      <td>-1.157137</td>\n",
       "    </tr>\n",
       "    <tr>\n",
       "      <th>Label 1</th>\n",
       "      <td>-1.863493</td>\n",
       "      <td>-0.277388</td>\n",
       "      <td>-0.354759</td>\n",
       "      <td>5</td>\n",
       "      <td>False</td>\n",
       "      <td>0.633804</td>\n",
       "      <td>-0.754475</td>\n",
       "      <td>0.043049</td>\n",
       "    </tr>\n",
       "    <tr>\n",
       "      <th>Label 2</th>\n",
       "      <td>-0.082741</td>\n",
       "      <td>-0.627001</td>\n",
       "      <td>-0.043818</td>\n",
       "      <td>3</td>\n",
       "      <td>False</td>\n",
       "      <td>-0.059582</td>\n",
       "      <td>0.906537</td>\n",
       "      <td>0.295364</td>\n",
       "    </tr>\n",
       "    <tr>\n",
       "      <th>Label 3</th>\n",
       "      <td>-0.477218</td>\n",
       "      <td>-1.313865</td>\n",
       "      <td>0.884622</td>\n",
       "      <td>0</td>\n",
       "      <td>False</td>\n",
       "      <td>-0.982250</td>\n",
       "      <td>0.618337</td>\n",
       "      <td>-0.309664</td>\n",
       "    </tr>\n",
       "    <tr>\n",
       "      <th>Label 4</th>\n",
       "      <td>0.881318</td>\n",
       "      <td>1.709573</td>\n",
       "      <td>0.050034</td>\n",
       "      <td>2</td>\n",
       "      <td>True</td>\n",
       "      <td>0.341083</td>\n",
       "      <td>0.601993</td>\n",
       "      <td>0.159713</td>\n",
       "    </tr>\n",
       "  </tbody>\n",
       "</table>\n",
       "</div>"
      ],
      "text/plain": [
       "                x         y         z category  boolean  continuous   feature  \\\n",
       "label                                                                           \n",
       "Label 0  1.788628  0.436510  0.096497        3    False   -1.599727 -1.085874   \n",
       "Label 1 -1.863493 -0.277388 -0.354759        5    False    0.633804 -0.754475   \n",
       "Label 2 -0.082741 -0.627001 -0.043818        3    False   -0.059582  0.906537   \n",
       "Label 3 -0.477218 -1.313865  0.884622        0    False   -0.982250  0.618337   \n",
       "Label 4  0.881318  1.709573  0.050034        2     True    0.341083  0.601993   \n",
       "\n",
       "           target  \n",
       "label              \n",
       "Label 0 -1.157137  \n",
       "Label 1  0.043049  \n",
       "Label 2  0.295364  \n",
       "Label 3 -0.309664  \n",
       "Label 4  0.159713  "
      ]
     },
     "execution_count": null,
     "metadata": {},
     "output_type": "execute_result"
    }
   ],
   "source": [
    "df_all.head()"
   ]
  },
  {
   "cell_type": "code",
   "execution_count": null,
   "metadata": {},
   "outputs": [
    {
     "data": {
      "text/html": [
       "<div>\n",
       "<style scoped>\n",
       "    .dataframe tbody tr th:only-of-type {\n",
       "        vertical-align: middle;\n",
       "    }\n",
       "\n",
       "    .dataframe tbody tr th {\n",
       "        vertical-align: top;\n",
       "    }\n",
       "\n",
       "    .dataframe thead th {\n",
       "        text-align: right;\n",
       "    }\n",
       "</style>\n",
       "<table border=\"1\" class=\"dataframe\">\n",
       "  <thead>\n",
       "    <tr style=\"text-align: right;\">\n",
       "      <th></th>\n",
       "      <th>category</th>\n",
       "      <th>boolean</th>\n",
       "      <th>continuous</th>\n",
       "      <th>feature</th>\n",
       "      <th>target</th>\n",
       "    </tr>\n",
       "    <tr>\n",
       "      <th>label</th>\n",
       "      <th></th>\n",
       "      <th></th>\n",
       "      <th></th>\n",
       "      <th></th>\n",
       "      <th></th>\n",
       "    </tr>\n",
       "  </thead>\n",
       "  <tbody>\n",
       "    <tr>\n",
       "      <th>Label 0</th>\n",
       "      <td>3</td>\n",
       "      <td>False</td>\n",
       "      <td>-1.599727</td>\n",
       "      <td>-1.085874</td>\n",
       "      <td>-1.157137</td>\n",
       "    </tr>\n",
       "    <tr>\n",
       "      <th>Label 1</th>\n",
       "      <td>5</td>\n",
       "      <td>False</td>\n",
       "      <td>0.633804</td>\n",
       "      <td>-0.754475</td>\n",
       "      <td>0.043049</td>\n",
       "    </tr>\n",
       "    <tr>\n",
       "      <th>Label 2</th>\n",
       "      <td>3</td>\n",
       "      <td>False</td>\n",
       "      <td>-0.059582</td>\n",
       "      <td>0.906537</td>\n",
       "      <td>0.295364</td>\n",
       "    </tr>\n",
       "    <tr>\n",
       "      <th>Label 3</th>\n",
       "      <td>0</td>\n",
       "      <td>False</td>\n",
       "      <td>-0.982250</td>\n",
       "      <td>0.618337</td>\n",
       "      <td>-0.309664</td>\n",
       "    </tr>\n",
       "    <tr>\n",
       "      <th>Label 4</th>\n",
       "      <td>2</td>\n",
       "      <td>True</td>\n",
       "      <td>0.341083</td>\n",
       "      <td>0.601993</td>\n",
       "      <td>0.159713</td>\n",
       "    </tr>\n",
       "  </tbody>\n",
       "</table>\n",
       "</div>"
      ],
      "text/plain": [
       "        category  boolean  continuous   feature    target\n",
       "label                                                    \n",
       "Label 0        3    False   -1.599727 -1.085874 -1.157137\n",
       "Label 1        5    False    0.633804 -0.754475  0.043049\n",
       "Label 2        3    False   -0.059582  0.906537  0.295364\n",
       "Label 3        0    False   -0.982250  0.618337 -0.309664\n",
       "Label 4        2     True    0.341083  0.601993  0.159713"
      ]
     },
     "execution_count": null,
     "metadata": {},
     "output_type": "execute_result"
    }
   ],
   "source": [
    "# NOTE: this is the same as df_sidecar\n",
    "df_all = df_all.drop(columns=df_p.columns)\n",
    "df_all.head()"
   ]
  },
  {
   "attachments": {},
   "cell_type": "markdown",
   "metadata": {},
   "source": [
    "NOTE: **All** columns that you want to show up in the data should ideally be `float32()` type, although doubles might not be the end of the world."
   ]
  },
  {
   "cell_type": "code",
   "execution_count": null,
   "metadata": {},
   "outputs": [
    {
     "data": {
      "text/html": [
       "<div>\n",
       "<style scoped>\n",
       "    .dataframe tbody tr th:only-of-type {\n",
       "        vertical-align: middle;\n",
       "    }\n",
       "\n",
       "    .dataframe tbody tr th {\n",
       "        vertical-align: top;\n",
       "    }\n",
       "\n",
       "    .dataframe thead th {\n",
       "        text-align: right;\n",
       "    }\n",
       "</style>\n",
       "<table border=\"1\" class=\"dataframe\">\n",
       "  <thead>\n",
       "    <tr style=\"text-align: right;\">\n",
       "      <th></th>\n",
       "      <th>category</th>\n",
       "      <th>boolean</th>\n",
       "      <th>continuous</th>\n",
       "      <th>feature</th>\n",
       "      <th>target</th>\n",
       "    </tr>\n",
       "    <tr>\n",
       "      <th>label</th>\n",
       "      <th></th>\n",
       "      <th></th>\n",
       "      <th></th>\n",
       "      <th></th>\n",
       "      <th></th>\n",
       "    </tr>\n",
       "  </thead>\n",
       "  <tbody>\n",
       "    <tr>\n",
       "      <th>Label 0</th>\n",
       "      <td>3.0</td>\n",
       "      <td>0.0</td>\n",
       "      <td>-1.599727</td>\n",
       "      <td>-1.085874</td>\n",
       "      <td>-1.157137</td>\n",
       "    </tr>\n",
       "    <tr>\n",
       "      <th>Label 1</th>\n",
       "      <td>5.0</td>\n",
       "      <td>0.0</td>\n",
       "      <td>0.633804</td>\n",
       "      <td>-0.754475</td>\n",
       "      <td>0.043049</td>\n",
       "    </tr>\n",
       "    <tr>\n",
       "      <th>Label 2</th>\n",
       "      <td>3.0</td>\n",
       "      <td>0.0</td>\n",
       "      <td>-0.059582</td>\n",
       "      <td>0.906537</td>\n",
       "      <td>0.295364</td>\n",
       "    </tr>\n",
       "    <tr>\n",
       "      <th>Label 3</th>\n",
       "      <td>0.0</td>\n",
       "      <td>0.0</td>\n",
       "      <td>-0.982250</td>\n",
       "      <td>0.618337</td>\n",
       "      <td>-0.309664</td>\n",
       "    </tr>\n",
       "    <tr>\n",
       "      <th>Label 4</th>\n",
       "      <td>2.0</td>\n",
       "      <td>1.0</td>\n",
       "      <td>0.341083</td>\n",
       "      <td>0.601993</td>\n",
       "      <td>0.159713</td>\n",
       "    </tr>\n",
       "  </tbody>\n",
       "</table>\n",
       "</div>"
      ],
      "text/plain": [
       "         category  boolean  continuous   feature    target\n",
       "label                                                     \n",
       "Label 0       3.0      0.0   -1.599727 -1.085874 -1.157137\n",
       "Label 1       5.0      0.0    0.633804 -0.754475  0.043049\n",
       "Label 2       3.0      0.0   -0.059582  0.906537  0.295364\n",
       "Label 3       0.0      0.0   -0.982250  0.618337 -0.309664\n",
       "Label 4       2.0      1.0    0.341083  0.601993  0.159713"
      ]
     },
     "execution_count": null,
     "metadata": {},
     "output_type": "execute_result"
    }
   ],
   "source": [
    "df_all = df_all.astype('float32')\n",
    "df_all.head()"
   ]
  },
  {
   "attachments": {},
   "cell_type": "markdown",
   "metadata": {},
   "source": [
    "The file must be a [feather file][feather file], not parquet. \n",
    "\n",
    "```python \n",
    "from pyarrow import feather; \n",
    "\n",
    "# if converting from parquet\n",
    "feather.write_feather(parquet.read_table('fin.parquet), 'fout.feather))\n",
    "\n",
    "# if converting pandas\n",
    "feather.write_feather(df, 'fout.feather')\n",
    "```\n",
    "\n",
    "[feather file]: https://arrow.apache.org/docs/python/feather.html"
   ]
  },
  {
   "cell_type": "code",
   "execution_count": null,
   "metadata": {},
   "outputs": [],
   "source": [
    "feather.write_feather(df_all, feather_sidecar.name)"
   ]
  },
  {
   "attachments": {},
   "cell_type": "markdown",
   "metadata": {},
   "source": [
    "### 3) run `add_sidecars.py`"
   ]
  },
  {
   "cell_type": "code",
   "execution_count": null,
   "metadata": {},
   "outputs": [
    {
     "name": "stdout",
     "output_type": "stream",
     "text": [
      "/Users/solst/Projects/featherplot/nbs/../static/datasets/mini/tiles/0/0/0.feather\n",
      "\u001b[H\u001b[2J"
     ]
    }
   ],
   "source": [
    "!python3 add_sidecars.py --tileset {os.path.join(TARGET_DIR, 'tiles')}\\\n",
    "                         --sidecar {feather_sidecar.name} --key {LABEL_NAME};\n",
    "!clear                         "
   ]
  },
  {
   "attachments": {},
   "cell_type": "markdown",
   "metadata": {},
   "source": [
    "**(NEW)**\n",
    "> check if feather has all data"
   ]
  },
  {
   "cell_type": "code",
   "execution_count": null,
   "metadata": {},
   "outputs": [
    {
     "data": {
      "text/plain": [
       "(1000, 5)"
      ]
     },
     "execution_count": null,
     "metadata": {},
     "output_type": "execute_result"
    }
   ],
   "source": [
    "feather.read_feather(os.path.join(TARGET_DIR, 'tiles', '0/0/0.feather')).shape"
   ]
  },
  {
   "attachments": {},
   "cell_type": "markdown",
   "metadata": {},
   "source": [
    "## Meta Data"
   ]
  },
  {
   "cell_type": "code",
   "execution_count": null,
   "metadata": {},
   "outputs": [],
   "source": [
    "meta = dict(\n",
    "    seed=SEED, n_points=N_POINTS, tile_size=TILE_SIZE, \n",
    "    dataset_name=DATASET_NAME, label_name=LABEL_NAME,\n",
    "    \n",
    "    # NOTE: since all these direcetories are relative to the static assets directory\n",
    "    #       we can use the relative path to the static assets directory instead of the wrangling\n",
    "    #       we did above.\n",
    "    target_dir=TARGET_DIR.replace(STATIC_ASSETS_DIR, ''), \n",
    "    tiles_dir=os.path.join(TARGET_DIR, 'tiles').replace(STATIC_ASSETS_DIR, ''),\n",
    "\n",
    "    embedding_columns=df_p.columns.values.tolist(),\n",
    "    sidecar_columns=df_s.columns.values.tolist(),\n",
    "    column_metadata=column_meta,\n",
    ")"
   ]
  },
  {
   "cell_type": "code",
   "execution_count": null,
   "metadata": {},
   "outputs": [],
   "source": [
    "with open(os.path.join(TARGET_DIR, 'meta.yml'), 'w') as f:\n",
    "    f.write(yaml.dump(meta))"
   ]
  },
  {
   "attachments": {},
   "cell_type": "markdown",
   "metadata": {},
   "source": [
    "## Cleanup"
   ]
  },
  {
   "attachments": {},
   "cell_type": "markdown",
   "metadata": {},
   "source": [
    "NOTE: these files will automatically be deleted when the kernel stops, but we delete them here for good practice"
   ]
  },
  {
   "cell_type": "code",
   "execution_count": null,
   "metadata": {},
   "outputs": [],
   "source": [
    "csv_points.close()\n",
    "csv_sidecar.close()\n",
    "feather_sidecar.close()"
   ]
  }
 ],
 "metadata": {
  "kernelspec": {
   "display_name": "python3",
   "language": "python",
   "name": "python3"
  }
 },
 "nbformat": 4,
 "nbformat_minor": 2
}
